{
 "cells": [
  {
   "cell_type": "code",
   "execution_count": 27,
   "id": "e5631ec9",
   "metadata": {},
   "outputs": [],
   "source": [
    "import tensorflow as tf\n",
    "   "
   ]
  },
  {
   "cell_type": "code",
   "execution_count": 29,
   "id": "b44b198a",
   "metadata": {},
   "outputs": [
    {
     "data": {
      "text/html": [
       "<div>\n",
       "<style scoped>\n",
       "    .dataframe tbody tr th:only-of-type {\n",
       "        vertical-align: middle;\n",
       "    }\n",
       "\n",
       "    .dataframe tbody tr th {\n",
       "        vertical-align: top;\n",
       "    }\n",
       "\n",
       "    .dataframe thead th {\n",
       "        text-align: right;\n",
       "    }\n",
       "</style>\n",
       "<table border=\"1\" class=\"dataframe\">\n",
       "  <thead>\n",
       "    <tr style=\"text-align: right;\">\n",
       "      <th></th>\n",
       "      <th>Unnamed: 0</th>\n",
       "      <th>title</th>\n",
       "      <th>text</th>\n",
       "      <th>label</th>\n",
       "    </tr>\n",
       "  </thead>\n",
       "  <tbody>\n",
       "    <tr>\n",
       "      <th>0</th>\n",
       "      <td>8476</td>\n",
       "      <td>You Can Smell Hillary’s Fear</td>\n",
       "      <td>Daniel Greenfield, a Shillman Journalism Fello...</td>\n",
       "      <td>FAKE</td>\n",
       "    </tr>\n",
       "    <tr>\n",
       "      <th>1</th>\n",
       "      <td>10294</td>\n",
       "      <td>Watch The Exact Moment Paul Ryan Committed Pol...</td>\n",
       "      <td>Google Pinterest Digg Linkedin Reddit Stumbleu...</td>\n",
       "      <td>FAKE</td>\n",
       "    </tr>\n",
       "    <tr>\n",
       "      <th>2</th>\n",
       "      <td>3608</td>\n",
       "      <td>Kerry to go to Paris in gesture of sympathy</td>\n",
       "      <td>U.S. Secretary of State John F. Kerry said Mon...</td>\n",
       "      <td>REAL</td>\n",
       "    </tr>\n",
       "    <tr>\n",
       "      <th>3</th>\n",
       "      <td>10142</td>\n",
       "      <td>Bernie supporters on Twitter erupt in anger ag...</td>\n",
       "      <td>— Kaydee King (@KaydeeKing) November 9, 2016 T...</td>\n",
       "      <td>FAKE</td>\n",
       "    </tr>\n",
       "    <tr>\n",
       "      <th>4</th>\n",
       "      <td>875</td>\n",
       "      <td>The Battle of New York: Why This Primary Matters</td>\n",
       "      <td>It's primary day in New York and front-runners...</td>\n",
       "      <td>REAL</td>\n",
       "    </tr>\n",
       "  </tbody>\n",
       "</table>\n",
       "</div>"
      ],
      "text/plain": [
       "   Unnamed: 0                                              title  \\\n",
       "0        8476                       You Can Smell Hillary’s Fear   \n",
       "1       10294  Watch The Exact Moment Paul Ryan Committed Pol...   \n",
       "2        3608        Kerry to go to Paris in gesture of sympathy   \n",
       "3       10142  Bernie supporters on Twitter erupt in anger ag...   \n",
       "4         875   The Battle of New York: Why This Primary Matters   \n",
       "\n",
       "                                                text label  \n",
       "0  Daniel Greenfield, a Shillman Journalism Fello...  FAKE  \n",
       "1  Google Pinterest Digg Linkedin Reddit Stumbleu...  FAKE  \n",
       "2  U.S. Secretary of State John F. Kerry said Mon...  REAL  \n",
       "3  — Kaydee King (@KaydeeKing) November 9, 2016 T...  FAKE  \n",
       "4  It's primary day in New York and front-runners...  REAL  "
      ]
     },
     "execution_count": 29,
     "metadata": {},
     "output_type": "execute_result"
    }
   ],
   "source": [
    "import numpy as np \n",
    "import pandas as pd \n",
    "import json \n",
    "import csv \n",
    "import random \n",
    "\n",
    "import pprint \n",
    "import tensorflow as tf \n",
    "from tensorflow.python.framework import ops \n",
    "from sklearn.model_selection import train_test_split \n",
    "from sklearn import preprocessing \n",
    "\n",
    "from tensorflow.keras.preprocessing.text import Tokenizer \n",
    "from tensorflow.keras.preprocessing.sequence import pad_sequences \n",
    "from tensorflow.keras.utils import to_categorical \n",
    "from tensorflow.keras import regularizers \n",
    "\n",
    "# Enable eager execution (optional, if needed)\n",
    "tf.compat.v1.enable_eager_execution()\n",
    "\n",
    "# Reading the data \n",
    "data = pd.read_csv(\"news (1).csv\") \n",
    "data.head()"
   ]
  },
  {
   "cell_type": "code",
   "execution_count": 30,
   "id": "9f44e7b5",
   "metadata": {},
   "outputs": [
    {
     "data": {
      "text/html": [
       "<div>\n",
       "<style scoped>\n",
       "    .dataframe tbody tr th:only-of-type {\n",
       "        vertical-align: middle;\n",
       "    }\n",
       "\n",
       "    .dataframe tbody tr th {\n",
       "        vertical-align: top;\n",
       "    }\n",
       "\n",
       "    .dataframe thead th {\n",
       "        text-align: right;\n",
       "    }\n",
       "</style>\n",
       "<table border=\"1\" class=\"dataframe\">\n",
       "  <thead>\n",
       "    <tr style=\"text-align: right;\">\n",
       "      <th></th>\n",
       "      <th>title</th>\n",
       "      <th>text</th>\n",
       "      <th>label</th>\n",
       "    </tr>\n",
       "  </thead>\n",
       "  <tbody>\n",
       "    <tr>\n",
       "      <th>0</th>\n",
       "      <td>You Can Smell Hillary’s Fear</td>\n",
       "      <td>Daniel Greenfield, a Shillman Journalism Fello...</td>\n",
       "      <td>FAKE</td>\n",
       "    </tr>\n",
       "    <tr>\n",
       "      <th>1</th>\n",
       "      <td>Watch The Exact Moment Paul Ryan Committed Pol...</td>\n",
       "      <td>Google Pinterest Digg Linkedin Reddit Stumbleu...</td>\n",
       "      <td>FAKE</td>\n",
       "    </tr>\n",
       "    <tr>\n",
       "      <th>2</th>\n",
       "      <td>Kerry to go to Paris in gesture of sympathy</td>\n",
       "      <td>U.S. Secretary of State John F. Kerry said Mon...</td>\n",
       "      <td>REAL</td>\n",
       "    </tr>\n",
       "    <tr>\n",
       "      <th>3</th>\n",
       "      <td>Bernie supporters on Twitter erupt in anger ag...</td>\n",
       "      <td>— Kaydee King (@KaydeeKing) November 9, 2016 T...</td>\n",
       "      <td>FAKE</td>\n",
       "    </tr>\n",
       "    <tr>\n",
       "      <th>4</th>\n",
       "      <td>The Battle of New York: Why This Primary Matters</td>\n",
       "      <td>It's primary day in New York and front-runners...</td>\n",
       "      <td>REAL</td>\n",
       "    </tr>\n",
       "  </tbody>\n",
       "</table>\n",
       "</div>"
      ],
      "text/plain": [
       "                                               title  \\\n",
       "0                       You Can Smell Hillary’s Fear   \n",
       "1  Watch The Exact Moment Paul Ryan Committed Pol...   \n",
       "2        Kerry to go to Paris in gesture of sympathy   \n",
       "3  Bernie supporters on Twitter erupt in anger ag...   \n",
       "4   The Battle of New York: Why This Primary Matters   \n",
       "\n",
       "                                                text label  \n",
       "0  Daniel Greenfield, a Shillman Journalism Fello...  FAKE  \n",
       "1  Google Pinterest Digg Linkedin Reddit Stumbleu...  FAKE  \n",
       "2  U.S. Secretary of State John F. Kerry said Mon...  REAL  \n",
       "3  — Kaydee King (@KaydeeKing) November 9, 2016 T...  FAKE  \n",
       "4  It's primary day in New York and front-runners...  REAL  "
      ]
     },
     "execution_count": 30,
     "metadata": {},
     "output_type": "execute_result"
    }
   ],
   "source": [
    "data = data.drop([\"Unnamed: 0\"], axis=1) \n",
    "data.head(5) "
   ]
  },
  {
   "cell_type": "code",
   "execution_count": 31,
   "id": "22fc7803",
   "metadata": {},
   "outputs": [],
   "source": [
    "# encoding the labels \n",
    "le = preprocessing.LabelEncoder() \n",
    "le.fit(data['label']) \n",
    "data['label'] = le.transform(data['label']) \n"
   ]
  },
  {
   "cell_type": "code",
   "execution_count": 32,
   "id": "b2f81130",
   "metadata": {},
   "outputs": [],
   "source": [
    "embedding_dim = 50\n",
    "max_length = 54\n",
    "trunc_type = 'post'\n",
    "padding_type = 'post'\n",
    "oov_tok = \"<OOV>\"\n",
    "training_size = 3000\n",
    "test_portion = .1\n",
    "\n"
   ]
  },
  {
   "cell_type": "code",
   "execution_count": 33,
   "id": "5e362ba5",
   "metadata": {},
   "outputs": [],
   "source": [
    "title = [] \n",
    "text = [] \n",
    "labels = [] \n",
    "for x in range(training_size): \n",
    "\ttitle.append(data['title'][x]) \n",
    "\ttext.append(data['text'][x]) \n",
    "\tlabels.append(data['label'][x]) \n"
   ]
  },
  {
   "cell_type": "code",
   "execution_count": 34,
   "id": "2655acce",
   "metadata": {},
   "outputs": [],
   "source": [
    "tokenizer1 = Tokenizer() \n",
    "tokenizer1.fit_on_texts(title) \n",
    "word_index1 = tokenizer1.word_index \n",
    "vocab_size1 = len(word_index1) \n",
    "sequences1 = tokenizer1.texts_to_sequences(title) \n",
    "padded1 = pad_sequences( \n",
    "\tsequences1, padding=padding_type, truncating=trunc_type) \n",
    "split = int(test_portion * training_size) \n",
    "training_sequences1 = padded1[split:training_size] \n",
    "test_sequences1 = padded1[0:split] \n",
    "test_labels = labels[0:split] \n",
    "training_labels = labels[split:training_size] \n"
   ]
  },
  {
   "cell_type": "code",
   "execution_count": 38,
   "id": "317e92c6",
   "metadata": {},
   "outputs": [],
   "source": [
    "import numpy as np\n",
    "\n",
    "embeddings_index = {} \n",
    "with open('glove.6B.50d.txt', encoding='utf-8') as f: \n",
    "    for line in f: \n",
    "        values = line.split() \n",
    "        word = values[0] \n",
    "        coefs = np.asarray(values[1:], dtype='float32') \n",
    "        embeddings_index[word] = coefs \n",
    "\n",
    "# Generating embeddings \n",
    "embeddings_matrix = np.zeros((vocab_size1 + 1, embedding_dim)) \n",
    "for word, i in word_index1.items(): \n",
    "    embedding_vector = embeddings_index.get(word) \n",
    "    if embedding_vector is not None: \n",
    "        embeddings_matrix[i] = embedding_vector\n"
   ]
  },
  {
   "cell_type": "code",
   "execution_count": 47,
   "id": "3a03258f",
   "metadata": {},
   "outputs": [
    {
     "data": {
      "text/html": [
       "<pre style=\"white-space:pre;overflow-x:auto;line-height:normal;font-family:Menlo,'DejaVu Sans Mono',consolas,'Courier New',monospace\"><span style=\"font-weight: bold\">Model: \"sequential_2\"</span>\n",
       "</pre>\n"
      ],
      "text/plain": [
       "\u001b[1mModel: \"sequential_2\"\u001b[0m\n"
      ]
     },
     "metadata": {},
     "output_type": "display_data"
    },
    {
     "data": {
      "text/html": [
       "<pre style=\"white-space:pre;overflow-x:auto;line-height:normal;font-family:Menlo,'DejaVu Sans Mono',consolas,'Courier New',monospace\">┏━━━━━━━━━━━━━━━━━━━━━━━━━━━━━━━━━━━━━━┳━━━━━━━━━━━━━━━━━━━━━━━━━━━━━┳━━━━━━━━━━━━━━━━━┓\n",
       "┃<span style=\"font-weight: bold\"> Layer (type)                         </span>┃<span style=\"font-weight: bold\"> Output Shape                </span>┃<span style=\"font-weight: bold\">         Param # </span>┃\n",
       "┡━━━━━━━━━━━━━━━━━━━━━━━━━━━━━━━━━━━━━━╇━━━━━━━━━━━━━━━━━━━━━━━━━━━━━╇━━━━━━━━━━━━━━━━━┩\n",
       "│ embedding_2 (<span style=\"color: #0087ff; text-decoration-color: #0087ff\">Embedding</span>)              │ ?                           │         <span style=\"color: #00af00; text-decoration-color: #00af00\">377,600</span> │\n",
       "├──────────────────────────────────────┼─────────────────────────────┼─────────────────┤\n",
       "│ dropout_2 (<span style=\"color: #0087ff; text-decoration-color: #0087ff\">Dropout</span>)                  │ ?                           │     <span style=\"color: #00af00; text-decoration-color: #00af00\">0</span> (unbuilt) │\n",
       "├──────────────────────────────────────┼─────────────────────────────┼─────────────────┤\n",
       "│ conv1d_2 (<span style=\"color: #0087ff; text-decoration-color: #0087ff\">Conv1D</span>)                    │ ?                           │     <span style=\"color: #00af00; text-decoration-color: #00af00\">0</span> (unbuilt) │\n",
       "├──────────────────────────────────────┼─────────────────────────────┼─────────────────┤\n",
       "│ max_pooling1d_2 (<span style=\"color: #0087ff; text-decoration-color: #0087ff\">MaxPooling1D</span>)       │ ?                           │     <span style=\"color: #00af00; text-decoration-color: #00af00\">0</span> (unbuilt) │\n",
       "├──────────────────────────────────────┼─────────────────────────────┼─────────────────┤\n",
       "│ lstm_2 (<span style=\"color: #0087ff; text-decoration-color: #0087ff\">LSTM</span>)                        │ ?                           │     <span style=\"color: #00af00; text-decoration-color: #00af00\">0</span> (unbuilt) │\n",
       "├──────────────────────────────────────┼─────────────────────────────┼─────────────────┤\n",
       "│ dense_2 (<span style=\"color: #0087ff; text-decoration-color: #0087ff\">Dense</span>)                      │ ?                           │     <span style=\"color: #00af00; text-decoration-color: #00af00\">0</span> (unbuilt) │\n",
       "└──────────────────────────────────────┴─────────────────────────────┴─────────────────┘\n",
       "</pre>\n"
      ],
      "text/plain": [
       "┏━━━━━━━━━━━━━━━━━━━━━━━━━━━━━━━━━━━━━━┳━━━━━━━━━━━━━━━━━━━━━━━━━━━━━┳━━━━━━━━━━━━━━━━━┓\n",
       "┃\u001b[1m \u001b[0m\u001b[1mLayer (type)                        \u001b[0m\u001b[1m \u001b[0m┃\u001b[1m \u001b[0m\u001b[1mOutput Shape               \u001b[0m\u001b[1m \u001b[0m┃\u001b[1m \u001b[0m\u001b[1m        Param #\u001b[0m\u001b[1m \u001b[0m┃\n",
       "┡━━━━━━━━━━━━━━━━━━━━━━━━━━━━━━━━━━━━━━╇━━━━━━━━━━━━━━━━━━━━━━━━━━━━━╇━━━━━━━━━━━━━━━━━┩\n",
       "│ embedding_2 (\u001b[38;5;33mEmbedding\u001b[0m)              │ ?                           │         \u001b[38;5;34m377,600\u001b[0m │\n",
       "├──────────────────────────────────────┼─────────────────────────────┼─────────────────┤\n",
       "│ dropout_2 (\u001b[38;5;33mDropout\u001b[0m)                  │ ?                           │     \u001b[38;5;34m0\u001b[0m (unbuilt) │\n",
       "├──────────────────────────────────────┼─────────────────────────────┼─────────────────┤\n",
       "│ conv1d_2 (\u001b[38;5;33mConv1D\u001b[0m)                    │ ?                           │     \u001b[38;5;34m0\u001b[0m (unbuilt) │\n",
       "├──────────────────────────────────────┼─────────────────────────────┼─────────────────┤\n",
       "│ max_pooling1d_2 (\u001b[38;5;33mMaxPooling1D\u001b[0m)       │ ?                           │     \u001b[38;5;34m0\u001b[0m (unbuilt) │\n",
       "├──────────────────────────────────────┼─────────────────────────────┼─────────────────┤\n",
       "│ lstm_2 (\u001b[38;5;33mLSTM\u001b[0m)                        │ ?                           │     \u001b[38;5;34m0\u001b[0m (unbuilt) │\n",
       "├──────────────────────────────────────┼─────────────────────────────┼─────────────────┤\n",
       "│ dense_2 (\u001b[38;5;33mDense\u001b[0m)                      │ ?                           │     \u001b[38;5;34m0\u001b[0m (unbuilt) │\n",
       "└──────────────────────────────────────┴─────────────────────────────┴─────────────────┘\n"
      ]
     },
     "metadata": {},
     "output_type": "display_data"
    },
    {
     "data": {
      "text/html": [
       "<pre style=\"white-space:pre;overflow-x:auto;line-height:normal;font-family:Menlo,'DejaVu Sans Mono',consolas,'Courier New',monospace\"><span style=\"font-weight: bold\"> Total params: </span><span style=\"color: #00af00; text-decoration-color: #00af00\">377,600</span> (1.44 MB)\n",
       "</pre>\n"
      ],
      "text/plain": [
       "\u001b[1m Total params: \u001b[0m\u001b[38;5;34m377,600\u001b[0m (1.44 MB)\n"
      ]
     },
     "metadata": {},
     "output_type": "display_data"
    },
    {
     "data": {
      "text/html": [
       "<pre style=\"white-space:pre;overflow-x:auto;line-height:normal;font-family:Menlo,'DejaVu Sans Mono',consolas,'Courier New',monospace\"><span style=\"font-weight: bold\"> Trainable params: </span><span style=\"color: #00af00; text-decoration-color: #00af00\">0</span> (0.00 B)\n",
       "</pre>\n"
      ],
      "text/plain": [
       "\u001b[1m Trainable params: \u001b[0m\u001b[38;5;34m0\u001b[0m (0.00 B)\n"
      ]
     },
     "metadata": {},
     "output_type": "display_data"
    },
    {
     "data": {
      "text/html": [
       "<pre style=\"white-space:pre;overflow-x:auto;line-height:normal;font-family:Menlo,'DejaVu Sans Mono',consolas,'Courier New',monospace\"><span style=\"font-weight: bold\"> Non-trainable params: </span><span style=\"color: #00af00; text-decoration-color: #00af00\">377,600</span> (1.44 MB)\n",
       "</pre>\n"
      ],
      "text/plain": [
       "\u001b[1m Non-trainable params: \u001b[0m\u001b[38;5;34m377,600\u001b[0m (1.44 MB)\n"
      ]
     },
     "metadata": {},
     "output_type": "display_data"
    }
   ],
   "source": [
    "model = tf.keras.Sequential([ \n",
    "\ttf.keras.layers.Embedding(vocab_size1+1, embedding_dim, \n",
    "\t\t\t\t\t\t\tinput_length=max_length, weights=[ \n",
    "\t\t\t\t\t\t\t\tembeddings_matrix], \n",
    "\t\t\t\t\t\t\ttrainable=False), \n",
    "\ttf.keras.layers.Dropout(0.2), \n",
    "\ttf.keras.layers.Conv1D(64, 5, activation='relu'), \n",
    "\ttf.keras.layers.MaxPooling1D(pool_size=4), \n",
    "\ttf.keras.layers.LSTM(64), \n",
    "\ttf.keras.layers.Dense(1, activation='sigmoid') \n",
    "]) \n",
    "model.compile(loss='binary_crossentropy', \n",
    "\t\t\toptimizer='adam', metrics=['accuracy']) \n",
    "model.summary() \n"
   ]
  },
  {
   "cell_type": "code",
   "execution_count": 40,
   "id": "6aef6301",
   "metadata": {},
   "outputs": [
    {
     "name": "stdout",
     "output_type": "stream",
     "text": [
      "Epoch 1/50\n",
      "85/85 - 9s - 100ms/step - accuracy: 0.6241 - loss: 0.6450 - val_accuracy: 0.7100 - val_loss: 0.5663\n",
      "Epoch 2/50\n",
      "85/85 - 1s - 12ms/step - accuracy: 0.7037 - loss: 0.5756 - val_accuracy: 0.6967 - val_loss: 0.5432\n",
      "Epoch 3/50\n",
      "85/85 - 1s - 14ms/step - accuracy: 0.7285 - loss: 0.5342 - val_accuracy: 0.7067 - val_loss: 0.5383\n",
      "Epoch 4/50\n",
      "85/85 - 1s - 14ms/step - accuracy: 0.7570 - loss: 0.4949 - val_accuracy: 0.7200 - val_loss: 0.4953\n",
      "Epoch 5/50\n",
      "85/85 - 1s - 15ms/step - accuracy: 0.7889 - loss: 0.4545 - val_accuracy: 0.7067 - val_loss: 0.5174\n",
      "Epoch 6/50\n",
      "85/85 - 1s - 14ms/step - accuracy: 0.8137 - loss: 0.4056 - val_accuracy: 0.7200 - val_loss: 0.5125\n",
      "Epoch 7/50\n",
      "85/85 - 1s - 15ms/step - accuracy: 0.8326 - loss: 0.3704 - val_accuracy: 0.7367 - val_loss: 0.5075\n",
      "Epoch 8/50\n",
      "85/85 - 1s - 16ms/step - accuracy: 0.8607 - loss: 0.3242 - val_accuracy: 0.7500 - val_loss: 0.4918\n",
      "Epoch 9/50\n",
      "85/85 - 1s - 15ms/step - accuracy: 0.8874 - loss: 0.2815 - val_accuracy: 0.7433 - val_loss: 0.5394\n",
      "Epoch 10/50\n",
      "85/85 - 3s - 30ms/step - accuracy: 0.8904 - loss: 0.2643 - val_accuracy: 0.7567 - val_loss: 0.4945\n",
      "Epoch 11/50\n",
      "85/85 - 1s - 14ms/step - accuracy: 0.9011 - loss: 0.2508 - val_accuracy: 0.7533 - val_loss: 0.5651\n",
      "Epoch 12/50\n",
      "85/85 - 1s - 15ms/step - accuracy: 0.9081 - loss: 0.2275 - val_accuracy: 0.7633 - val_loss: 0.6715\n",
      "Epoch 13/50\n",
      "85/85 - 1s - 14ms/step - accuracy: 0.9144 - loss: 0.2044 - val_accuracy: 0.7267 - val_loss: 0.7129\n",
      "Epoch 14/50\n",
      "85/85 - 1s - 14ms/step - accuracy: 0.9107 - loss: 0.2271 - val_accuracy: 0.7500 - val_loss: 0.5980\n",
      "Epoch 15/50\n",
      "85/85 - 1s - 15ms/step - accuracy: 0.9289 - loss: 0.1782 - val_accuracy: 0.7633 - val_loss: 0.6231\n",
      "Epoch 16/50\n",
      "85/85 - 1s - 13ms/step - accuracy: 0.9259 - loss: 0.1807 - val_accuracy: 0.7467 - val_loss: 0.6421\n",
      "Epoch 17/50\n",
      "85/85 - 1s - 15ms/step - accuracy: 0.9367 - loss: 0.1541 - val_accuracy: 0.7633 - val_loss: 0.6725\n",
      "Epoch 18/50\n",
      "85/85 - 1s - 14ms/step - accuracy: 0.9452 - loss: 0.1403 - val_accuracy: 0.7767 - val_loss: 0.6834\n",
      "Epoch 19/50\n",
      "85/85 - 1s - 15ms/step - accuracy: 0.9552 - loss: 0.1236 - val_accuracy: 0.7533 - val_loss: 0.7780\n",
      "Epoch 20/50\n",
      "85/85 - 1s - 16ms/step - accuracy: 0.9537 - loss: 0.1284 - val_accuracy: 0.7533 - val_loss: 0.7165\n",
      "Epoch 21/50\n",
      "85/85 - 1s - 14ms/step - accuracy: 0.9548 - loss: 0.1146 - val_accuracy: 0.7800 - val_loss: 0.6545\n",
      "Epoch 22/50\n",
      "85/85 - 1s - 14ms/step - accuracy: 0.9300 - loss: 0.1673 - val_accuracy: 0.7667 - val_loss: 0.7259\n",
      "Epoch 23/50\n",
      "85/85 - 1s - 15ms/step - accuracy: 0.9544 - loss: 0.1110 - val_accuracy: 0.7567 - val_loss: 0.7168\n",
      "Epoch 24/50\n",
      "85/85 - 1s - 14ms/step - accuracy: 0.9600 - loss: 0.1017 - val_accuracy: 0.7733 - val_loss: 0.6768\n",
      "Epoch 25/50\n",
      "85/85 - 1s - 15ms/step - accuracy: 0.9611 - loss: 0.1001 - val_accuracy: 0.7733 - val_loss: 0.8437\n",
      "Epoch 26/50\n",
      "85/85 - 1s - 14ms/step - accuracy: 0.9607 - loss: 0.0955 - val_accuracy: 0.7467 - val_loss: 0.7846\n",
      "Epoch 27/50\n",
      "85/85 - 1s - 16ms/step - accuracy: 0.9581 - loss: 0.1091 - val_accuracy: 0.7600 - val_loss: 0.7769\n",
      "Epoch 28/50\n",
      "85/85 - 1s - 14ms/step - accuracy: 0.9644 - loss: 0.0865 - val_accuracy: 0.7333 - val_loss: 0.8544\n",
      "Epoch 29/50\n",
      "85/85 - 1s - 14ms/step - accuracy: 0.9674 - loss: 0.0878 - val_accuracy: 0.7700 - val_loss: 0.8433\n",
      "Epoch 30/50\n",
      "85/85 - 1s - 14ms/step - accuracy: 0.9678 - loss: 0.0863 - val_accuracy: 0.7333 - val_loss: 0.9511\n",
      "Epoch 31/50\n",
      "85/85 - 1s - 15ms/step - accuracy: 0.9719 - loss: 0.0760 - val_accuracy: 0.7367 - val_loss: 0.8323\n",
      "Epoch 32/50\n",
      "85/85 - 1s - 14ms/step - accuracy: 0.9733 - loss: 0.0743 - val_accuracy: 0.7633 - val_loss: 0.8076\n",
      "Epoch 33/50\n",
      "85/85 - 1s - 14ms/step - accuracy: 0.9704 - loss: 0.0800 - val_accuracy: 0.7733 - val_loss: 0.9471\n",
      "Epoch 34/50\n",
      "85/85 - 1s - 15ms/step - accuracy: 0.9778 - loss: 0.0664 - val_accuracy: 0.7800 - val_loss: 0.8860\n",
      "Epoch 35/50\n",
      "85/85 - 1s - 14ms/step - accuracy: 0.9678 - loss: 0.0867 - val_accuracy: 0.7600 - val_loss: 0.8339\n",
      "Epoch 36/50\n",
      "85/85 - 1s - 15ms/step - accuracy: 0.9685 - loss: 0.0872 - val_accuracy: 0.7633 - val_loss: 0.7552\n",
      "Epoch 37/50\n",
      "85/85 - 1s - 15ms/step - accuracy: 0.9722 - loss: 0.0711 - val_accuracy: 0.7433 - val_loss: 0.8422\n",
      "Epoch 38/50\n",
      "85/85 - 1s - 15ms/step - accuracy: 0.9685 - loss: 0.0847 - val_accuracy: 0.7533 - val_loss: 0.8927\n",
      "Epoch 39/50\n",
      "85/85 - 1s - 15ms/step - accuracy: 0.9748 - loss: 0.0674 - val_accuracy: 0.7267 - val_loss: 0.9680\n",
      "Epoch 40/50\n",
      "85/85 - 1s - 15ms/step - accuracy: 0.9726 - loss: 0.0778 - val_accuracy: 0.7333 - val_loss: 0.9307\n",
      "Epoch 41/50\n",
      "85/85 - 1s - 14ms/step - accuracy: 0.9770 - loss: 0.0660 - val_accuracy: 0.7633 - val_loss: 1.0041\n",
      "Epoch 42/50\n",
      "85/85 - 1s - 15ms/step - accuracy: 0.9789 - loss: 0.0613 - val_accuracy: 0.7700 - val_loss: 0.8657\n",
      "Epoch 43/50\n",
      "85/85 - 1s - 13ms/step - accuracy: 0.9785 - loss: 0.0615 - val_accuracy: 0.7700 - val_loss: 0.7558\n",
      "Epoch 44/50\n",
      "85/85 - 1s - 15ms/step - accuracy: 0.9722 - loss: 0.0724 - val_accuracy: 0.7267 - val_loss: 0.9011\n",
      "Epoch 45/50\n",
      "85/85 - 1s - 15ms/step - accuracy: 0.9785 - loss: 0.0611 - val_accuracy: 0.7533 - val_loss: 0.9224\n",
      "Epoch 46/50\n",
      "85/85 - 1s - 15ms/step - accuracy: 0.9759 - loss: 0.0643 - val_accuracy: 0.7700 - val_loss: 0.9305\n",
      "Epoch 47/50\n",
      "85/85 - 1s - 15ms/step - accuracy: 0.9781 - loss: 0.0684 - val_accuracy: 0.7567 - val_loss: 0.9814\n",
      "Epoch 48/50\n",
      "85/85 - 1s - 15ms/step - accuracy: 0.9770 - loss: 0.0680 - val_accuracy: 0.7200 - val_loss: 0.9190\n",
      "Epoch 49/50\n",
      "85/85 - 1s - 15ms/step - accuracy: 0.9759 - loss: 0.0693 - val_accuracy: 0.7500 - val_loss: 0.8769\n",
      "Epoch 50/50\n",
      "85/85 - 1s - 14ms/step - accuracy: 0.9815 - loss: 0.0546 - val_accuracy: 0.7333 - val_loss: 0.8672\n"
     ]
    }
   ],
   "source": [
    "num_epochs = 50\n",
    "\n",
    "training_padded = np.array(training_sequences1) \n",
    "training_labels = np.array(training_labels) \n",
    "testing_padded = np.array(test_sequences1) \n",
    "testing_labels = np.array(test_labels) \n",
    "\n",
    "history = model.fit(training_padded, training_labels, \n",
    "\t\t\t\t\tepochs=num_epochs, \n",
    "\t\t\t\t\tvalidation_data=(testing_padded, \n",
    "\t\t\t\t\t\t\t\t\ttesting_labels), \n",
    "\t\t\t\t\tverbose=2) \n"
   ]
  },
  {
   "cell_type": "code",
   "execution_count": 41,
   "id": "5e78a401",
   "metadata": {},
   "outputs": [
    {
     "name": "stdout",
     "output_type": "stream",
     "text": [
      "This news is True\n"
     ]
    }
   ],
   "source": [
    "# sample text to check if fake or not \n",
    "X = \"Karry to go to France in gesture of sympathy\"\n",
    "\n",
    "# detection \n",
    "sequences = tokenizer1.texts_to_sequences([X])[0] \n",
    "sequences = pad_sequences([sequences], maxlen=54, \n",
    "\t\t\t\t\t\tpadding=padding_type, \n",
    "\t\t\t\t\t\ttruncating=trunc_type) \n",
    "if(model.predict(sequences, verbose=0)[0][0] >= 0.5): \n",
    "\tprint(\"This news is True\") \n",
    "else: \n",
    "\tprint(\"This news is false\") \n"
   ]
  },
  {
   "cell_type": "code",
   "execution_count": 42,
   "id": "c2d4505d",
   "metadata": {},
   "outputs": [],
   "source": []
  },
  {
   "cell_type": "code",
   "execution_count": null,
   "id": "69eaf55f",
   "metadata": {},
   "outputs": [],
   "source": []
  },
  {
   "cell_type": "code",
   "execution_count": null,
   "id": "d0c39c66",
   "metadata": {},
   "outputs": [],
   "source": []
  },
  {
   "cell_type": "code",
   "execution_count": null,
   "id": "0024c680",
   "metadata": {},
   "outputs": [],
   "source": []
  },
  {
   "cell_type": "code",
   "execution_count": null,
   "id": "352e18c3",
   "metadata": {},
   "outputs": [],
   "source": []
  }
 ],
 "metadata": {
  "kernelspec": {
   "display_name": "Python 3 (ipykernel)",
   "language": "python",
   "name": "python3"
  },
  "language_info": {
   "codemirror_mode": {
    "name": "ipython",
    "version": 3
   },
   "file_extension": ".py",
   "mimetype": "text/x-python",
   "name": "python",
   "nbconvert_exporter": "python",
   "pygments_lexer": "ipython3",
   "version": "3.11.4"
  }
 },
 "nbformat": 4,
 "nbformat_minor": 5
}
